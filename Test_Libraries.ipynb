{
 "cells": [
  {
   "cell_type": "markdown",
   "id": "d7f31a04",
   "metadata": {},
   "source": [
    "# Practising python fake Librairies"
   ]
  },
  {
   "cell_type": "code",
   "execution_count": 3,
   "id": "bc095dac",
   "metadata": {},
   "outputs": [],
   "source": [
    "##Importing the libraries\n",
    "\n",
    "from faker import Faker\n",
    "import pandas as pd\n"
   ]
  },
  {
   "cell_type": "markdown",
   "id": "8d9efd40",
   "metadata": {},
   "source": [
    " ### Faker (with capital F) is a class — a special blueprint Python gives us from the Faker library.\n",
    " ### When you do Faker(), you’re creating an object (like creating something based on that blueprint).\n",
    " ### That object (we call it fake) can now use tools like .name(), .email(), etc."
   ]
  },
  {
   "cell_type": "code",
   "execution_count": 4,
   "id": "52f52ceb",
   "metadata": {},
   "outputs": [
    {
     "name": "stdout",
     "output_type": "stream",
     "text": [
      "Here’s a fake name: Mikayla Salazar\n"
     ]
    }
   ],
   "source": [
    "\n",
    "# Creating an instance of the Faker class\n",
    "fake = Faker() #This line creates a Faker object named fake\n",
    "\n",
    "# Generating a fake name and print it\n",
    "print(\"Here’s a fake name:\", fake.name())\n"
   ]
  },
  {
   "cell_type": "markdown",
   "id": "f640b54a",
   "metadata": {},
   "source": [
    "## Data generation: Generating Fake Data Using Faker"
   ]
  },
  {
   "cell_type": "code",
   "execution_count": 5,
   "id": "3bca9a7f",
   "metadata": {},
   "outputs": [
    {
     "name": "stdout",
     "output_type": "stream",
     "text": [
      "Full Name: Anthony Johnson\n",
      "Phone Number: 001-363-857-7239x074\n",
      "Email: sharongray@example.net\n",
      "Job Title: Engineer, manufacturing\n",
      "City: Cindyfurt\n"
     ]
    }
   ],
   "source": [
    "# Generating one fake person's data\n",
    "full_name = fake.name()\n",
    "phone_number = fake.phone_number()\n",
    "email = fake.email()\n",
    "job = fake.job()\n",
    "city = fake.city()\n",
    "\n",
    "# Displaying the result\n",
    "print(\"Full Name:\", full_name)\n",
    "print(\"Phone Number:\", phone_number)\n",
    "print(\"Email:\", email)\n",
    "print(\"Job Title:\", job)\n",
    "print(\"City:\", city)\n"
   ]
  },
  {
   "cell_type": "markdown",
   "id": "cd5b8f37",
   "metadata": {},
   "source": [
    "### Generating Multiple Fake People Using a Loop"
   ]
  },
  {
   "cell_type": "code",
   "execution_count": 6,
   "id": "af17b32b",
   "metadata": {},
   "outputs": [
    {
     "name": "stdout",
     "output_type": "stream",
     "text": [
      "{'Full Name': 'Madison Webster', 'Phone Number': '(283)936-1571x024', 'Email': 'ljohnson@example.org', 'Job Title': 'Education officer, museum', 'City': 'Pamelashire'}\n",
      "---\n",
      "{'Full Name': 'Jeffrey Lawrence', 'Phone Number': '+1-822-651-7834x8815', 'Email': 'kwallace@example.com', 'Job Title': 'Producer, television/film/video', 'City': 'Josephland'}\n",
      "---\n",
      "{'Full Name': 'Warren Johnston', 'Phone Number': '001-301-750-6857x78966', 'Email': 'jason26@example.com', 'Job Title': 'Administrator, education', 'City': 'Port Shane'}\n",
      "---\n"
     ]
    }
   ],
   "source": [
    "# Creating a list to hold the fake data\n",
    "fake_data = [] #This creates an empty cell called \"fake_data\"\n",
    "\n",
    "# Generating data for 10 people\n",
    "for _ in range(10): \n",
    "    person = {\n",
    "        'Full Name': fake.name(),\n",
    "        'Phone Number': fake.phone_number(),\n",
    "        'Email': fake.email(),\n",
    "        'Job Title': fake.job(),\n",
    "        'City': fake.city()\n",
    "    }                            # I created a dictionary for one fake person\n",
    "    fake_data.append(person)\n",
    "\n",
    "# Displaying the first 3 results\n",
    "for person in fake_data[:3]:\n",
    "    print(person)\n",
    "    print(\"---\")\n"
   ]
  },
  {
   "cell_type": "markdown",
   "id": "500da047",
   "metadata": {},
   "source": [
    "#### NOTE:\n",
    "#### I'm using '_' in the loop because I don't need the actual number (like i or x).\n",
    "#### I just want to repeat this action 10 times, and I’m not using the loop counter for anything.\n",
    "#### The underscore (_) is just a placeholder — it tells Python:\n",
    "#### “Yes, I’m looping — but I don’t care what number round it is.”"
   ]
  },
  {
   "cell_type": "markdown",
   "id": "90713fb8",
   "metadata": {},
   "source": [
    "### Data processing : standardizing the phone numbers."
   ]
  },
  {
   "cell_type": "markdown",
   "id": "4dcb2386",
   "metadata": {},
   "source": [
    "\n",
    "#### The Goal:\n",
    "#### I want to make sure all phone numbers are:\n",
    "#### Only numbers (no spaces, dashes, brackets, etc.)\n",
    "#### Exactly 11 digits (like a normal Nigerian phone number: 08123456789)\n",
    "\n",
    "#### What I did :\n",
    "#### Looped through the fake_data list\n",
    "\n",
    "#### Cleaned up each person’s phone number using Python\n",
    "\n",
    "#### Replaced the old number with the cleaned one"
   ]
  },
  {
   "cell_type": "code",
   "execution_count": 7,
   "id": "0af8cb41",
   "metadata": {},
   "outputs": [],
   "source": [
    "# Formatting phone numbers to be 11-digit numeric only\n",
    "for person in fake_data:\n",
    "    phone = person['Phone Number']\n",
    "    \n",
    "    # Removing non-numeric characters using a list comprehension\n",
    "    numeric_phone = ''.join([num for num in phone if num.isdigit()])\n",
    "    \n",
    "    # Keeping only the last 11 digits (in case there are country codes)\n",
    "    person['Phone Number'] = numeric_phone[-11:]\n"
   ]
  },
  {
   "cell_type": "code",
   "execution_count": 9,
   "id": "13b96570",
   "metadata": {},
   "outputs": [
    {
     "name": "stdout",
     "output_type": "stream",
     "text": [
      "05230553281\n"
     ]
    }
   ],
   "source": [
    "print(fake_data[0]['Phone Number'])\n"
   ]
  },
  {
   "cell_type": "markdown",
   "id": "e857767a",
   "metadata": {},
   "source": [
    "### Saving Data: Exporting the generated and processed data to a CSV file"
   ]
  },
  {
   "cell_type": "code",
   "execution_count": 8,
   "id": "c3229bda",
   "metadata": {},
   "outputs": [],
   "source": [
    "import csv"
   ]
  },
  {
   "cell_type": "code",
   "execution_count": 9,
   "id": "12e21a42",
   "metadata": {},
   "outputs": [],
   "source": [
    "# Saving data to a CSV file\n",
    "filename = \"fake_data.csv\"\n",
    "\n",
    "# Defining the column headers\n",
    "fields = ['Full Name', 'Phone Number', 'Email', 'Job Title', 'City']"
   ]
  },
  {
   "cell_type": "code",
   "execution_count": 10,
   "id": "ad937c6f",
   "metadata": {},
   "outputs": [],
   "source": [
    "# Opening a new file and write the data\n",
    "with open(filename, mode='w', newline='', encoding='utf-8') as file:\n",
    "    writer = csv.DictWriter(file, fieldnames=fields)\n",
    "   \n",
    "    writer.writeheader()            # writing column headers\n",
    "    writer.writerows(fake_data)    # writing rows from the fake_data list"
   ]
  }
 ],
 "metadata": {
  "kernelspec": {
   "display_name": "Python 3",
   "language": "python",
   "name": "python3"
  },
  "language_info": {
   "codemirror_mode": {
    "name": "ipython",
    "version": 3
   },
   "file_extension": ".py",
   "mimetype": "text/x-python",
   "name": "python",
   "nbconvert_exporter": "python",
   "pygments_lexer": "ipython3",
   "version": "3.12.0"
  }
 },
 "nbformat": 4,
 "nbformat_minor": 5
}
